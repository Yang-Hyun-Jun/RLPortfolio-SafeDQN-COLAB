{
  "nbformat": 4,
  "nbformat_minor": 0,
  "metadata": {
    "colab": {
      "name": "Experiment for DQN(PortA).ipynb",
      "provenance": [],
      "collapsed_sections": []
    },
    "kernelspec": {
      "name": "python3",
      "display_name": "Python 3"
    },
    "language_info": {
      "name": "python"
    }
  },
  "cells": [
    {
      "cell_type": "code",
      "execution_count": null,
      "metadata": {
        "id": "hsWd20BKAT0T"
      },
      "outputs": [],
      "source": [
        "!git clone https://github.com/Yang-Hyun-Jun/RLPortfolio-DQN-PortA--COLAB.git"
      ]
    },
    {
      "cell_type": "code",
      "source": [
        "!pip install mplfinance"
      ],
      "metadata": {
        "id": "TqBbg8LCAgNV"
      },
      "execution_count": null,
      "outputs": []
    },
    {
      "cell_type": "code",
      "source": [
        "import sys\n",
        "import os\n",
        "import torch"
      ],
      "metadata": {
        "id": "5tyVDD4AAhVu"
      },
      "execution_count": 3,
      "outputs": []
    },
    {
      "cell_type": "code",
      "source": [
        "sys.path.insert(0, \"/content/RLPortfolio-DQN-PortA--COLAB\")"
      ],
      "metadata": {
        "id": "wJ6H8ikkAiaL"
      },
      "execution_count": 4,
      "outputs": []
    },
    {
      "cell_type": "code",
      "source": [
        "os.makedirs(\"/content/Metrics\", exist_ok=True)\n",
        "os.makedirs(\"/content/Models\", exist_ok=True)"
      ],
      "metadata": {
        "id": "ycbsWBCsAl03"
      },
      "execution_count": 5,
      "outputs": []
    },
    {
      "cell_type": "code",
      "source": [
        "import DataManager\n",
        "import utils\n",
        "\n",
        "from Learner import DQNLearner\n",
        "from Test import DQNTester"
      ],
      "metadata": {
        "id": "o04URenfAnWW"
      },
      "execution_count": 6,
      "outputs": []
    },
    {
      "cell_type": "code",
      "source": [
        "# Data Load\n",
        "\n",
        "stock_list = [\"HA\", \"WBA\", \"INCY\"]\n",
        "path_list = []\n",
        "\n",
        "for stock_name in stock_list:\n",
        "  path = utils.SAVE_DIR + \"/RLPortfolio-DQN-PortA--COLAB/Data/\" + stock_name\n",
        "  path_list.append(path)\n",
        "\n",
        "train_data, test_data = DataManager.get_data_tensor(path_list,\n",
        "                                                    train_date_start=\"2014-06-02\",\n",
        "                                                    train_date_end=\"2019-12-31\",\n",
        "                                                    test_date_start=\"2020-01-02\",\n",
        "                                                    test_date_end=\"2021-12-31\")"
      ],
      "metadata": {
        "id": "M22jYzgCAoa6"
      },
      "execution_count": null,
      "outputs": []
    },
    {
      "cell_type": "code",
      "source": [
        "# Hyperparameters\n",
        "\n",
        "K = len(stock_list)\n",
        "lr = 1e-8\n",
        "tau = 0.005\n",
        "delta = 0.005\n",
        "discount_factor = 0.9\n",
        "num_episode = 50\n",
        "balance = 12000\n",
        "batch_size = 30\n",
        "memory_size = 100\n",
        "trading_unit = 10\n",
        "min_trading_price = 0\n",
        "max_trading_price = 400\n",
        "\n",
        "parameters1 = {\"lr\":lr, \n",
        "               \"tau\":tau,\n",
        "               \"K\":K, \n",
        "               \"delta\":delta,\n",
        "               \"chart_data\":train_data, \"cost\":0.0,\n",
        "               \"discount_factor\":discount_factor,\n",
        "               \"min_trading_price\":min_trading_price,\n",
        "               \"max_trading_price\":max_trading_price,\n",
        "               \"batch_size\":batch_size,\n",
        "               \"memory_size\":memory_size}\n",
        "\n",
        "parameters2 = {\"K\":K, \"delta\":delta,\n",
        "               \"balance\":balance, \"cost\":0.0025,\n",
        "               \"min_trading_price\":min_trading_price,\n",
        "               \"max_trading_price\":max_trading_price,\n",
        "               \"test_data\":test_data}"
      ],
      "metadata": {
        "id": "P0m0P9BeA3d3"
      },
      "execution_count": 18,
      "outputs": []
    },
    {
      "cell_type": "code",
      "source": [
        "learner = DQNLearner(**parameters1)\n",
        "learner.run(num_episode=num_episode, balance=balance)\n",
        "learner.save_model(path=utils.SAVE_DIR + \"/Models\" + \"/DQNPortfolio.pth\")"
      ],
      "metadata": {
        "id": "YXzRFZSGBA7p"
      },
      "execution_count": null,
      "outputs": []
    },
    {
      "cell_type": "code",
      "source": [
        "tester = DQNTester(**parameters2)\n",
        "tester.run()"
      ],
      "metadata": {
        "id": "63gFm0PABJFJ"
      },
      "execution_count": null,
      "outputs": []
    },
    {
      "cell_type": "code",
      "source": [
        "!zip -r /content/Metrics.zip /content"
      ],
      "metadata": {
        "id": "5Y9seMw6k6U4"
      },
      "execution_count": null,
      "outputs": []
    },
    {
      "cell_type": "code",
      "source": [
        "from google.colab import files\n",
        "files.download(\"/content/Metrics.zip\")"
      ],
      "metadata": {
        "colab": {
          "base_uri": "https://localhost:8080/",
          "height": 17
        },
        "id": "aHXtkt46ZtY2",
        "outputId": "c9a4fce8-e30e-47ee-ecb2-d256bf1e788c"
      },
      "execution_count": 12,
      "outputs": [
        {
          "output_type": "display_data",
          "data": {
            "text/plain": [
              "<IPython.core.display.Javascript object>"
            ],
            "application/javascript": [
              "\n",
              "    async function download(id, filename, size) {\n",
              "      if (!google.colab.kernel.accessAllowed) {\n",
              "        return;\n",
              "      }\n",
              "      const div = document.createElement('div');\n",
              "      const label = document.createElement('label');\n",
              "      label.textContent = `Downloading \"${filename}\": `;\n",
              "      div.appendChild(label);\n",
              "      const progress = document.createElement('progress');\n",
              "      progress.max = size;\n",
              "      div.appendChild(progress);\n",
              "      document.body.appendChild(div);\n",
              "\n",
              "      const buffers = [];\n",
              "      let downloaded = 0;\n",
              "\n",
              "      const channel = await google.colab.kernel.comms.open(id);\n",
              "      // Send a message to notify the kernel that we're ready.\n",
              "      channel.send({})\n",
              "\n",
              "      for await (const message of channel.messages) {\n",
              "        // Send a message to notify the kernel that we're ready.\n",
              "        channel.send({})\n",
              "        if (message.buffers) {\n",
              "          for (const buffer of message.buffers) {\n",
              "            buffers.push(buffer);\n",
              "            downloaded += buffer.byteLength;\n",
              "            progress.value = downloaded;\n",
              "          }\n",
              "        }\n",
              "      }\n",
              "      const blob = new Blob(buffers, {type: 'application/binary'});\n",
              "      const a = document.createElement('a');\n",
              "      a.href = window.URL.createObjectURL(blob);\n",
              "      a.download = filename;\n",
              "      div.appendChild(a);\n",
              "      a.click();\n",
              "      div.remove();\n",
              "    }\n",
              "  "
            ]
          },
          "metadata": {}
        },
        {
          "output_type": "display_data",
          "data": {
            "text/plain": [
              "<IPython.core.display.Javascript object>"
            ],
            "application/javascript": [
              "download(\"download_5bae1502-d72c-4479-9582-803ecf5108a3\", \"Metrics.zip\", 9021826)"
            ]
          },
          "metadata": {}
        }
      ]
    }
  ]
}